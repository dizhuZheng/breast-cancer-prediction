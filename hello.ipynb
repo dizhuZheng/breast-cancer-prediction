{
 "cells": [
  {
   "cell_type": "code",
   "execution_count": 1,
   "metadata": {},
   "outputs": [
    {
     "name": "stdout",
     "output_type": "stream",
     "text": [
      "Tensorflow version 2.5.0\n"
     ]
    }
   ],
   "source": [
    "import math, re, os\n",
    "import numpy as np\n",
    "import tensorflow as tf\n",
    "from matplotlib import pyplot as plt   # matplotlib进行画图\n",
    "from kaggle_datasets import KaggleDatasets # Kaggle数据集\n",
    "import efficientnet.tfkeras as efn    # 导入efficientnet模型\n",
    "# 从python的sklearn机器学习中导入f1值、精度、召回率和混淆矩阵\n",
    "from sklearn.metrics import f1_score, precision_score, recall_score, confusion_matrix \n",
    "print(\"Tensorflow version \" + tf.__version__)"
   ]
  },
  {
   "cell_type": "code",
   "execution_count": null,
   "metadata": {},
   "outputs": [],
   "source": [
    "AUTO = tf.data.experimental.AUTOTUNE # 可以让程序自动的选择最优的线程并行个数\n",
    "# 从TPU创建部署\n",
    "tpu = tf.distribute.cluster_resolver.TPUClusterResolver() #如果先前设置好了ＴＰＵ＿ＮＡＭＥ环境变量，不需要再给参数．\n",
    "tf.config.experimental_connect_to_cluster(tpu) # 配置实验连接到群集\n",
    "tf.tpu.experimental.initialize_tpu_system(tpu) # 初始化tpu系统\n",
    "strategy = tf.distribute.experimental.TPUStrategy(tpu) # 设置TPU部署\n",
    "GCS_DS_PATH = KaggleDatasets().get_gcs_path('tpu-getting-started')\n"
   ]
  }
 ],
 "metadata": {
  "kernelspec": {
   "display_name": "Python 3.9.0 64-bit ('p3': virtualenvwrapper)",
   "name": "python390jvsc74a57bd00c13263204c156fc1b9a6b5ab587a9cb9cc72936a00a2d253bc14f7b6d36feab"
  },
  "language_info": {
   "codemirror_mode": {
    "name": "ipython",
    "version": 3
   },
   "file_extension": ".py",
   "mimetype": "text/x-python",
   "name": "python",
   "nbconvert_exporter": "python",
   "pygments_lexer": "ipython3",
   "version": "3.9.0"
  },
  "orig_nbformat": 2
 },
 "nbformat": 4,
 "nbformat_minor": 2
}